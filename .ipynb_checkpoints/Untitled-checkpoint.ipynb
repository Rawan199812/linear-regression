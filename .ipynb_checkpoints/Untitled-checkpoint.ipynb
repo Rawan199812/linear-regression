{
 "cells": [
  {
   "cell_type": "code",
   "execution_count": 1,
   "id": "4d24c7fa-02cf-4c36-9166-87845f864753",
   "metadata": {},
   "outputs": [],
   "source": [
    "import pandas as pd \n",
    "%matplotlib inline\n",
    "import matplotlib.pyplot as plt\n",
    "from sklearn.linear_model import LinearRegression\n",
    "from sklearn.model_selection import train_test_split\n",
    "from sklearn import metrics as mc\n",
    "\n",
    "\n"
   ]
  },
  {
   "cell_type": "markdown",
   "id": "e4586301-bd19-4994-9aff-3cd72727bfac",
   "metadata": {},
   "source": [
    "### Show the first five rows of the data set."
   ]
  },
  {
   "cell_type": "code",
   "execution_count": 2,
   "id": "9c2afbca-cc16-4da8-aaca-fb8325dc949a",
   "metadata": {},
   "outputs": [
    {
     "data": {
      "text/html": [
       "<div>\n",
       "<style scoped>\n",
       "    .dataframe tbody tr th:only-of-type {\n",
       "        vertical-align: middle;\n",
       "    }\n",
       "\n",
       "    .dataframe tbody tr th {\n",
       "        vertical-align: top;\n",
       "    }\n",
       "\n",
       "    .dataframe thead th {\n",
       "        text-align: right;\n",
       "    }\n",
       "</style>\n",
       "<table border=\"1\" class=\"dataframe\">\n",
       "  <thead>\n",
       "    <tr style=\"text-align: right;\">\n",
       "      <th></th>\n",
       "      <th>X</th>\n",
       "      <th>Y</th>\n",
       "    </tr>\n",
       "  </thead>\n",
       "  <tbody>\n",
       "    <tr>\n",
       "      <th>0</th>\n",
       "      <td>1</td>\n",
       "      <td>3.888889</td>\n",
       "    </tr>\n",
       "    <tr>\n",
       "      <th>1</th>\n",
       "      <td>2</td>\n",
       "      <td>4.555556</td>\n",
       "    </tr>\n",
       "    <tr>\n",
       "      <th>2</th>\n",
       "      <td>3</td>\n",
       "      <td>5.222222</td>\n",
       "    </tr>\n",
       "    <tr>\n",
       "      <th>3</th>\n",
       "      <td>4</td>\n",
       "      <td>5.888889</td>\n",
       "    </tr>\n",
       "    <tr>\n",
       "      <th>4</th>\n",
       "      <td>5</td>\n",
       "      <td>6.555556</td>\n",
       "    </tr>\n",
       "  </tbody>\n",
       "</table>\n",
       "</div>"
      ],
      "text/plain": [
       "   X         Y\n",
       "0  1  3.888889\n",
       "1  2  4.555556\n",
       "2  3  5.222222\n",
       "3  4  5.888889\n",
       "4  5  6.555556"
      ]
     },
     "execution_count": 2,
     "metadata": {},
     "output_type": "execute_result"
    }
   ],
   "source": [
    "LR = LinearRegression()\n",
    "df = pd.read_csv(\"Linear Regression - Sheet1.csv\")\n",
    "df.head(5)"
   ]
  },
  {
   "cell_type": "code",
   "execution_count": 3,
   "id": "c4db1dac-44f7-49af-9ad6-794a067c1c71",
   "metadata": {
    "collapsed": true,
    "jupyter": {
     "outputs_hidden": true
    },
    "tags": []
   },
   "outputs": [
    {
     "data": {
      "text/plain": [
       "array([  1,   2,   3,   4,   5,   6,   7,   8,   9,  10,  11,  12,  13,\n",
       "        14,  15,  16,  17,  18,  19,  20,  21,  22,  23,  24,  25,  26,\n",
       "        27,  28,  29,  30,  31,  32,  33,  34,  35,  36,  37,  38,  39,\n",
       "        40,  41,  42,  43,  44,  45,  46,  47,  48,  49,  50,  51,  52,\n",
       "        53,  54,  55,  56,  57,  58,  59,  60,  61,  62,  63,  64,  65,\n",
       "        66,  67,  68,  69,  70,  71,  72,  73,  74,  75,  76,  77,  78,\n",
       "        79,  80,  81,  82,  83,  84,  85,  86,  87,  88,  89,  90,  91,\n",
       "        92,  93,  94,  95,  96,  97,  98,  99, 100, 101, 102, 103, 104,\n",
       "       105, 106, 107, 108, 109, 110, 111, 112, 113, 114, 115, 116, 117,\n",
       "       118, 119, 120, 121, 122, 123, 124, 125, 126, 127, 128, 129, 130,\n",
       "       131, 132, 133, 134, 135, 136, 137, 138, 139, 140, 141, 142, 143,\n",
       "       144, 145, 146, 147, 148, 149, 150, 151, 152, 153, 154, 155, 156,\n",
       "       157, 158, 159, 160, 161, 162, 163, 164, 165, 166, 167, 168, 169,\n",
       "       170, 171, 172, 173, 174, 175, 176, 177, 178, 179, 180, 181, 182,\n",
       "       183, 184, 185, 186, 187, 188, 189, 190, 191, 192, 193, 194, 195,\n",
       "       196, 197, 198, 199, 200, 201, 202, 203, 204, 205, 206, 207, 208,\n",
       "       209, 210, 211, 212, 213, 214, 215, 216, 217, 218, 219, 220, 221,\n",
       "       222, 223, 224, 225, 226, 227, 228, 229, 230, 231, 232, 233, 234,\n",
       "       235, 236, 237, 238, 239, 240, 241, 242, 243, 244, 245, 246, 247,\n",
       "       248, 249, 250, 251, 252, 253, 254, 255, 256, 257, 258, 259, 260,\n",
       "       261, 262, 263, 264, 265, 266, 267, 268, 269, 270, 271, 272, 273,\n",
       "       274, 275, 276, 277, 278, 279, 280, 281, 282, 283, 284, 285, 286,\n",
       "       287, 288, 289, 290, 291, 292, 293, 294, 295, 296, 297, 298, 299,\n",
       "       300])"
      ]
     },
     "execution_count": 3,
     "metadata": {},
     "output_type": "execute_result"
    }
   ],
   "source": [
    "X = df[\"X\"].values\n",
    "X"
   ]
  },
  {
   "cell_type": "code",
   "execution_count": 4,
   "id": "ca231cf1-8c1b-4e97-abc6-bbd0d721ac6c",
   "metadata": {
    "collapsed": true,
    "jupyter": {
     "outputs_hidden": true
    },
    "tags": []
   },
   "outputs": [
    {
     "data": {
      "text/plain": [
       "array([  3.88888889,   4.55555556,   5.22222222,   5.88888889,\n",
       "         6.55555556,   7.22222222,   7.88888889,   8.55555556,\n",
       "         9.22222222,   9.88888889,  10.55555556,  11.22222222,\n",
       "        11.88888889,  12.55555556,  13.22222222,  13.88888889,\n",
       "        14.55555556,  15.22222222,  15.88888889,  16.55555556,\n",
       "        17.22222222,  17.88888889,  18.55555556,  19.22222222,\n",
       "        19.88888889,  20.55555556,  21.22222222,  21.88888889,\n",
       "        22.55555556,  23.22222222,  23.88888889,  24.55555556,\n",
       "        25.22222222,  25.88888889,  26.55555556,  27.22222222,\n",
       "        27.88888889,  28.55555556,  29.22222222,  29.88888889,\n",
       "        30.55555556,  31.22222222,  31.88888889,  32.55555556,\n",
       "        33.22222222,  33.88888889,  34.55555556,  35.22222222,\n",
       "        35.88888889,  36.55555556,  37.22222222,  37.88888889,\n",
       "        38.55555556,  39.22222222,  39.88888889,  40.55555556,\n",
       "        41.22222222,  41.88888889,  42.55555556,  43.22222222,\n",
       "        43.88888889,  44.55555556,  45.22222222,  45.88888889,\n",
       "        46.55555556,  47.22222222,  47.88888889,  48.55555556,\n",
       "        49.22222222,  49.88888889,  50.55555556,  51.22222222,\n",
       "        51.88888889,  52.55555556,  53.22222222,  53.88888889,\n",
       "        54.55555556,  55.22222222,  55.88888889,  56.55555556,\n",
       "        57.22222222,  57.88888889,  58.55555556,  59.22222222,\n",
       "        59.88888889,  60.55555556,  61.22222222,  61.88888889,\n",
       "        62.55555556,  63.22222222,  63.88888889,  64.55555556,\n",
       "        65.22222222,  65.88888889,  66.55555556,  67.22222222,\n",
       "        67.88888889,  68.55555556,  69.22222222,  69.88888889,\n",
       "        70.55555556,  71.22222222,  71.88888889,  72.55555556,\n",
       "        73.22222222,  73.88888889,  74.55555556,  75.22222222,\n",
       "        75.88888889,  76.55555556,  77.22222222,  77.88888889,\n",
       "        78.55555556,  79.22222222,  79.88888889,  80.55555556,\n",
       "        81.22222222,  81.88888889,  82.55555556,  83.22222222,\n",
       "        83.88888889,  84.55555556,  85.22222222,  85.88888889,\n",
       "        86.55555556,  87.22222222,  87.88888889,  88.55555556,\n",
       "        89.22222222,  89.88888889,  90.55555556,  91.22222222,\n",
       "        91.88888889,  92.55555556,  93.22222222,  93.88888889,\n",
       "        94.55555556,  95.22222222,  95.88888889,  96.55555556,\n",
       "        97.22222222,  97.88888889,  98.55555556,  99.22222222,\n",
       "        99.88888889, 100.5555556 , 101.2222222 , 101.8888889 ,\n",
       "       102.5555556 , 103.2222222 , 103.8888889 , 104.5555556 ,\n",
       "       105.2222222 , 105.8888889 , 106.5555556 , 107.2222222 ,\n",
       "       107.8888889 , 108.5555556 , 109.2222222 , 109.8888889 ,\n",
       "       110.5555556 , 111.2222222 , 111.8888889 , 112.5555556 ,\n",
       "       113.2222222 , 113.8888889 , 114.5555556 , 115.2222222 ,\n",
       "       115.8888889 , 116.5555556 , 117.2222222 , 117.8888889 ,\n",
       "       118.5555556 , 119.2222222 , 119.8888889 , 120.5555556 ,\n",
       "       121.2222222 , 121.8888889 , 122.5555556 , 123.2222222 ,\n",
       "       123.8888889 , 124.5555556 , 125.2222222 , 125.8888889 ,\n",
       "       126.5555556 , 127.2222222 , 127.8888889 , 128.5555556 ,\n",
       "       129.2222222 , 129.8888889 , 130.5555556 , 131.2222222 ,\n",
       "       131.8888889 , 132.5555556 , 133.2222222 , 133.8888889 ,\n",
       "       134.5555556 , 135.2222222 , 135.8888889 , 136.5555556 ,\n",
       "       137.2222222 , 137.8888889 , 138.5555556 , 139.2222222 ,\n",
       "       139.8888889 , 140.5555556 , 141.2222222 , 141.8888889 ,\n",
       "       142.5555556 , 143.2222222 , 143.8888889 , 144.5555556 ,\n",
       "       145.2222222 , 145.8888889 , 146.5555556 , 147.2222222 ,\n",
       "       147.8888889 , 148.5555556 , 149.2222222 , 149.8888889 ,\n",
       "       150.5555556 , 151.2222222 , 151.8888889 , 152.5555556 ,\n",
       "       153.2222222 , 153.8888889 , 154.5555556 , 155.2222222 ,\n",
       "       155.8888889 , 156.5555556 , 157.2222222 , 157.8888889 ,\n",
       "       158.5555556 , 159.2222222 , 159.8888889 , 160.5555556 ,\n",
       "       161.2222222 , 161.8888889 , 162.5555556 , 163.2222222 ,\n",
       "       163.8888889 , 164.5555556 , 165.2222222 , 165.8888889 ,\n",
       "       166.5555556 , 167.2222222 , 167.8888889 , 168.5555556 ,\n",
       "       169.2222222 , 169.8888889 , 170.5555556 , 171.2222222 ,\n",
       "       171.8888889 , 172.5555556 , 173.2222222 , 173.8888889 ,\n",
       "       174.5555556 , 175.2222222 , 175.8888889 , 176.5555556 ,\n",
       "       177.2222222 , 177.8888889 , 178.5555556 , 179.2222222 ,\n",
       "       179.8888889 , 180.5555556 , 181.2222222 , 181.8888889 ,\n",
       "       182.5555556 , 183.2222222 , 183.8888889 , 184.5555556 ,\n",
       "       185.2222222 , 185.8888889 , 186.5555556 , 187.2222222 ,\n",
       "       187.8888889 , 188.5555556 , 189.2222222 , 189.8888889 ,\n",
       "       190.5555556 , 191.2222222 , 191.8888889 , 192.5555556 ,\n",
       "       193.2222222 , 193.8888889 , 194.5555556 , 195.2222222 ,\n",
       "       195.8888889 , 196.5555556 , 197.2222222 , 197.8888889 ,\n",
       "       198.5555556 , 199.2222222 , 199.8888889 , 200.5555556 ,\n",
       "       201.2222222 , 201.8888889 ,   1.88888889,   1.88888889])"
      ]
     },
     "execution_count": 4,
     "metadata": {},
     "output_type": "execute_result"
    }
   ],
   "source": [
    "y = df[\"Y\"].values\n",
    "y"
   ]
  },
  {
   "cell_type": "code",
   "execution_count": 5,
   "id": "90bf1df1-e78f-4f40-9c7a-d447db493dbe",
   "metadata": {
    "collapsed": true,
    "jupyter": {
     "outputs_hidden": true
    },
    "tags": []
   },
   "outputs": [
    {
     "data": {
      "text/plain": [
       "array([[  1],\n",
       "       [  2],\n",
       "       [  3],\n",
       "       [  4],\n",
       "       [  5],\n",
       "       [  6],\n",
       "       [  7],\n",
       "       [  8],\n",
       "       [  9],\n",
       "       [ 10],\n",
       "       [ 11],\n",
       "       [ 12],\n",
       "       [ 13],\n",
       "       [ 14],\n",
       "       [ 15],\n",
       "       [ 16],\n",
       "       [ 17],\n",
       "       [ 18],\n",
       "       [ 19],\n",
       "       [ 20],\n",
       "       [ 21],\n",
       "       [ 22],\n",
       "       [ 23],\n",
       "       [ 24],\n",
       "       [ 25],\n",
       "       [ 26],\n",
       "       [ 27],\n",
       "       [ 28],\n",
       "       [ 29],\n",
       "       [ 30],\n",
       "       [ 31],\n",
       "       [ 32],\n",
       "       [ 33],\n",
       "       [ 34],\n",
       "       [ 35],\n",
       "       [ 36],\n",
       "       [ 37],\n",
       "       [ 38],\n",
       "       [ 39],\n",
       "       [ 40],\n",
       "       [ 41],\n",
       "       [ 42],\n",
       "       [ 43],\n",
       "       [ 44],\n",
       "       [ 45],\n",
       "       [ 46],\n",
       "       [ 47],\n",
       "       [ 48],\n",
       "       [ 49],\n",
       "       [ 50],\n",
       "       [ 51],\n",
       "       [ 52],\n",
       "       [ 53],\n",
       "       [ 54],\n",
       "       [ 55],\n",
       "       [ 56],\n",
       "       [ 57],\n",
       "       [ 58],\n",
       "       [ 59],\n",
       "       [ 60],\n",
       "       [ 61],\n",
       "       [ 62],\n",
       "       [ 63],\n",
       "       [ 64],\n",
       "       [ 65],\n",
       "       [ 66],\n",
       "       [ 67],\n",
       "       [ 68],\n",
       "       [ 69],\n",
       "       [ 70],\n",
       "       [ 71],\n",
       "       [ 72],\n",
       "       [ 73],\n",
       "       [ 74],\n",
       "       [ 75],\n",
       "       [ 76],\n",
       "       [ 77],\n",
       "       [ 78],\n",
       "       [ 79],\n",
       "       [ 80],\n",
       "       [ 81],\n",
       "       [ 82],\n",
       "       [ 83],\n",
       "       [ 84],\n",
       "       [ 85],\n",
       "       [ 86],\n",
       "       [ 87],\n",
       "       [ 88],\n",
       "       [ 89],\n",
       "       [ 90],\n",
       "       [ 91],\n",
       "       [ 92],\n",
       "       [ 93],\n",
       "       [ 94],\n",
       "       [ 95],\n",
       "       [ 96],\n",
       "       [ 97],\n",
       "       [ 98],\n",
       "       [ 99],\n",
       "       [100],\n",
       "       [101],\n",
       "       [102],\n",
       "       [103],\n",
       "       [104],\n",
       "       [105],\n",
       "       [106],\n",
       "       [107],\n",
       "       [108],\n",
       "       [109],\n",
       "       [110],\n",
       "       [111],\n",
       "       [112],\n",
       "       [113],\n",
       "       [114],\n",
       "       [115],\n",
       "       [116],\n",
       "       [117],\n",
       "       [118],\n",
       "       [119],\n",
       "       [120],\n",
       "       [121],\n",
       "       [122],\n",
       "       [123],\n",
       "       [124],\n",
       "       [125],\n",
       "       [126],\n",
       "       [127],\n",
       "       [128],\n",
       "       [129],\n",
       "       [130],\n",
       "       [131],\n",
       "       [132],\n",
       "       [133],\n",
       "       [134],\n",
       "       [135],\n",
       "       [136],\n",
       "       [137],\n",
       "       [138],\n",
       "       [139],\n",
       "       [140],\n",
       "       [141],\n",
       "       [142],\n",
       "       [143],\n",
       "       [144],\n",
       "       [145],\n",
       "       [146],\n",
       "       [147],\n",
       "       [148],\n",
       "       [149],\n",
       "       [150],\n",
       "       [151],\n",
       "       [152],\n",
       "       [153],\n",
       "       [154],\n",
       "       [155],\n",
       "       [156],\n",
       "       [157],\n",
       "       [158],\n",
       "       [159],\n",
       "       [160],\n",
       "       [161],\n",
       "       [162],\n",
       "       [163],\n",
       "       [164],\n",
       "       [165],\n",
       "       [166],\n",
       "       [167],\n",
       "       [168],\n",
       "       [169],\n",
       "       [170],\n",
       "       [171],\n",
       "       [172],\n",
       "       [173],\n",
       "       [174],\n",
       "       [175],\n",
       "       [176],\n",
       "       [177],\n",
       "       [178],\n",
       "       [179],\n",
       "       [180],\n",
       "       [181],\n",
       "       [182],\n",
       "       [183],\n",
       "       [184],\n",
       "       [185],\n",
       "       [186],\n",
       "       [187],\n",
       "       [188],\n",
       "       [189],\n",
       "       [190],\n",
       "       [191],\n",
       "       [192],\n",
       "       [193],\n",
       "       [194],\n",
       "       [195],\n",
       "       [196],\n",
       "       [197],\n",
       "       [198],\n",
       "       [199],\n",
       "       [200],\n",
       "       [201],\n",
       "       [202],\n",
       "       [203],\n",
       "       [204],\n",
       "       [205],\n",
       "       [206],\n",
       "       [207],\n",
       "       [208],\n",
       "       [209],\n",
       "       [210],\n",
       "       [211],\n",
       "       [212],\n",
       "       [213],\n",
       "       [214],\n",
       "       [215],\n",
       "       [216],\n",
       "       [217],\n",
       "       [218],\n",
       "       [219],\n",
       "       [220],\n",
       "       [221],\n",
       "       [222],\n",
       "       [223],\n",
       "       [224],\n",
       "       [225],\n",
       "       [226],\n",
       "       [227],\n",
       "       [228],\n",
       "       [229],\n",
       "       [230],\n",
       "       [231],\n",
       "       [232],\n",
       "       [233],\n",
       "       [234],\n",
       "       [235],\n",
       "       [236],\n",
       "       [237],\n",
       "       [238],\n",
       "       [239],\n",
       "       [240],\n",
       "       [241],\n",
       "       [242],\n",
       "       [243],\n",
       "       [244],\n",
       "       [245],\n",
       "       [246],\n",
       "       [247],\n",
       "       [248],\n",
       "       [249],\n",
       "       [250],\n",
       "       [251],\n",
       "       [252],\n",
       "       [253],\n",
       "       [254],\n",
       "       [255],\n",
       "       [256],\n",
       "       [257],\n",
       "       [258],\n",
       "       [259],\n",
       "       [260],\n",
       "       [261],\n",
       "       [262],\n",
       "       [263],\n",
       "       [264],\n",
       "       [265],\n",
       "       [266],\n",
       "       [267],\n",
       "       [268],\n",
       "       [269],\n",
       "       [270],\n",
       "       [271],\n",
       "       [272],\n",
       "       [273],\n",
       "       [274],\n",
       "       [275],\n",
       "       [276],\n",
       "       [277],\n",
       "       [278],\n",
       "       [279],\n",
       "       [280],\n",
       "       [281],\n",
       "       [282],\n",
       "       [283],\n",
       "       [284],\n",
       "       [285],\n",
       "       [286],\n",
       "       [287],\n",
       "       [288],\n",
       "       [289],\n",
       "       [290],\n",
       "       [291],\n",
       "       [292],\n",
       "       [293],\n",
       "       [294],\n",
       "       [295],\n",
       "       [296],\n",
       "       [297],\n",
       "       [298],\n",
       "       [299],\n",
       "       [300]])"
      ]
     },
     "execution_count": 5,
     "metadata": {},
     "output_type": "execute_result"
    }
   ],
   "source": [
    "# X =df.iloc[:, 0].values.reshape(-1,1)\n",
    "X= X.reshape(-1,1)\n",
    "X\n"
   ]
  },
  {
   "cell_type": "code",
   "execution_count": 6,
   "id": "9a885182-aa52-47b1-8a5b-2464694c6014",
   "metadata": {},
   "outputs": [
    {
     "data": {
      "text/plain": [
       "<matplotlib.collections.PathCollection at 0x7f70f3eabe80>"
      ]
     },
     "execution_count": 6,
     "metadata": {},
     "output_type": "execute_result"
    },
    {
     "data": {
      "image/png": "[encoded data removed]",
      "text/plain": [
       "<Figure size 432x288 with 1 Axes>"
      ]
     },
     "metadata": {
      "needs_background": "light"
     },
     "output_type": "display_data"
    }
   ],
   "source": [
    "plt.scatter(X,y, c= 'r')  ## to make sure that the data set is Linear c = color "
   ]
  },
  {
   "cell_type": "markdown",
   "id": "b86639b4-713b-441f-887e-e41bc76852a0",
   "metadata": {},
   "source": [
    "### Using a regression model, split your data into train and test data."
   ]
  },
  {
   "cell_type": "code",
   "execution_count": 7,
   "id": "186c9fd7-524c-4da6-b56d-5e3f8920bf5d",
   "metadata": {},
   "outputs": [],
   "source": [
    "X_train, X_test, y_train, y_test = train_test_split(X, y ,test_size = 0.2, random_state = 4)"
   ]
  },
  {
   "cell_type": "code",
   "execution_count": 8,
   "id": "e3853cce-1e1b-4be7-837c-8031063d65b8",
   "metadata": {
    "collapsed": true,
    "jupyter": {
     "outputs_hidden": true
    },
    "tags": []
   },
   "outputs": [
    {
     "data": {
      "text/plain": [
       "array([[ 40],\n",
       "       [293],\n",
       "       [ 94],\n",
       "       [ 48],\n",
       "       [158],\n",
       "       [ 85],\n",
       "       [ 17],\n",
       "       [ 84],\n",
       "       [164],\n",
       "       [ 43],\n",
       "       [107],\n",
       "       [246],\n",
       "       [ 70],\n",
       "       [300],\n",
       "       [117],\n",
       "       [ 89],\n",
       "       [129],\n",
       "       [104],\n",
       "       [212],\n",
       "       [101],\n",
       "       [280],\n",
       "       [214],\n",
       "       [245],\n",
       "       [130],\n",
       "       [ 92],\n",
       "       [135],\n",
       "       [112],\n",
       "       [213],\n",
       "       [279],\n",
       "       [265],\n",
       "       [292],\n",
       "       [227],\n",
       "       [155],\n",
       "       [ 49],\n",
       "       [102],\n",
       "       [ 56],\n",
       "       [ 20],\n",
       "       [174],\n",
       "       [ 83],\n",
       "       [ 67],\n",
       "       [207],\n",
       "       [ 21],\n",
       "       [118],\n",
       "       [277],\n",
       "       [291],\n",
       "       [140],\n",
       "       [222],\n",
       "       [ 90],\n",
       "       [264],\n",
       "       [119],\n",
       "       [262],\n",
       "       [111],\n",
       "       [286],\n",
       "       [157],\n",
       "       [216],\n",
       "       [254],\n",
       "       [147],\n",
       "       [215],\n",
       "       [ 91],\n",
       "       [ 77],\n",
       "       [109],\n",
       "       [145],\n",
       "       [131],\n",
       "       [ 35],\n",
       "       [176],\n",
       "       [141],\n",
       "       [194],\n",
       "       [268],\n",
       "       [ 82],\n",
       "       [ 58],\n",
       "       [122],\n",
       "       [ 27],\n",
       "       [163],\n",
       "       [190],\n",
       "       [209],\n",
       "       [178],\n",
       "       [ 78],\n",
       "       [247],\n",
       "       [187],\n",
       "       [ 63],\n",
       "       [186],\n",
       "       [282],\n",
       "       [ 39],\n",
       "       [205],\n",
       "       [ 29],\n",
       "       [258],\n",
       "       [  3],\n",
       "       [249],\n",
       "       [ 30],\n",
       "       [275],\n",
       "       [  6],\n",
       "       [ 38],\n",
       "       [ 26],\n",
       "       [ 33],\n",
       "       [116],\n",
       "       [183],\n",
       "       [106],\n",
       "       [272],\n",
       "       [103],\n",
       "       [261],\n",
       "       [271],\n",
       "       [170],\n",
       "       [273],\n",
       "       [250],\n",
       "       [144],\n",
       "       [ 42],\n",
       "       [ 11],\n",
       "       [  8],\n",
       "       [149],\n",
       "       [ 75],\n",
       "       [189],\n",
       "       [196],\n",
       "       [210],\n",
       "       [ 66],\n",
       "       [226],\n",
       "       [ 36],\n",
       "       [160],\n",
       "       [278],\n",
       "       [121],\n",
       "       [171],\n",
       "       [281],\n",
       "       [206],\n",
       "       [276],\n",
       "       [289],\n",
       "       [236],\n",
       "       [239],\n",
       "       [136],\n",
       "       [274],\n",
       "       [120],\n",
       "       [105],\n",
       "       [139],\n",
       "       [288],\n",
       "       [142],\n",
       "       [ 16],\n",
       "       [128],\n",
       "       [ 87],\n",
       "       [172],\n",
       "       [ 61],\n",
       "       [ 98],\n",
       "       [ 28],\n",
       "       [ 18],\n",
       "       [151],\n",
       "       [243],\n",
       "       [ 68],\n",
       "       [237],\n",
       "       [251],\n",
       "       [224],\n",
       "       [168],\n",
       "       [  5],\n",
       "       [132],\n",
       "       [230],\n",
       "       [252],\n",
       "       [269],\n",
       "       [197],\n",
       "       [ 54],\n",
       "       [229],\n",
       "       [ 10],\n",
       "       [ 79],\n",
       "       [267],\n",
       "       [ 41],\n",
       "       [ 32],\n",
       "       [233],\n",
       "       [255],\n",
       "       [228],\n",
       "       [133],\n",
       "       [159],\n",
       "       [ 97],\n",
       "       [ 55],\n",
       "       [126],\n",
       "       [263],\n",
       "       [ 73],\n",
       "       [166],\n",
       "       [  9],\n",
       "       [ 52],\n",
       "       [108],\n",
       "       [ 60],\n",
       "       [220],\n",
       "       [ 37],\n",
       "       [ 80],\n",
       "       [259],\n",
       "       [ 86],\n",
       "       [266],\n",
       "       [182],\n",
       "       [287],\n",
       "       [211],\n",
       "       [284],\n",
       "       [200],\n",
       "       [235],\n",
       "       [238],\n",
       "       [232],\n",
       "       [199],\n",
       "       [260],\n",
       "       [283],\n",
       "       [ 24],\n",
       "       [ 76],\n",
       "       [257],\n",
       "       [191],\n",
       "       [ 23],\n",
       "       [223],\n",
       "       [115],\n",
       "       [152],\n",
       "       [177],\n",
       "       [188],\n",
       "       [ 74],\n",
       "       [218],\n",
       "       [241],\n",
       "       [146],\n",
       "       [ 51],\n",
       "       [256],\n",
       "       [ 96],\n",
       "       [ 99],\n",
       "       [208],\n",
       "       [  4],\n",
       "       [290],\n",
       "       [162],\n",
       "       [244],\n",
       "       [169],\n",
       "       [ 50],\n",
       "       [137],\n",
       "       [ 31],\n",
       "       [299],\n",
       "       [195],\n",
       "       [ 57],\n",
       "       [202],\n",
       "       [150],\n",
       "       [ 22],\n",
       "       [184],\n",
       "       [  1],\n",
       "       [ 53],\n",
       "       [127],\n",
       "       [ 45],\n",
       "       [165],\n",
       "       [ 95],\n",
       "       [110],\n",
       "       [253],\n",
       "       [ 59],\n",
       "       [ 88],\n",
       "       [198],\n",
       "       [175],\n",
       "       [123]])"
      ]
     },
     "execution_count": 8,
     "metadata": {},
     "output_type": "execute_result"
    }
   ],
   "source": [
    "X_train"
   ]
  },
  {
   "cell_type": "markdown",
   "id": "6ad89a5a-3eaf-4964-a27a-1655d76933b3",
   "metadata": {},
   "source": [
    "### Show the description and the info of the data set."
   ]
  },
  {
   "cell_type": "code",
   "execution_count": 15,
   "id": "7d079b7f-b4c5-424e-bd2f-e5d7553277b5",
   "metadata": {},
   "outputs": [
    {
     "data": {
      "text/html": [
       "<div>\n",
       "<style scoped>\n",
       "    .dataframe tbody tr th:only-of-type {\n",
       "        vertical-align: middle;\n",
       "    }\n",
       "\n",
       "    .dataframe tbody tr th {\n",
       "        vertical-align: top;\n",
       "    }\n",
       "\n",
       "    .dataframe thead th {\n",
       "        text-align: right;\n",
       "    }\n",
       "</style>\n",
       "<table border=\"1\" class=\"dataframe\">\n",
       "  <thead>\n",
       "    <tr style=\"text-align: right;\">\n",
       "      <th></th>\n",
       "      <th>X</th>\n",
       "      <th>Y</th>\n",
       "    </tr>\n",
       "  </thead>\n",
       "  <tbody>\n",
       "    <tr>\n",
       "      <th>count</th>\n",
       "      <td>300.000000</td>\n",
       "      <td>300.000000</td>\n",
       "    </tr>\n",
       "    <tr>\n",
       "      <th>mean</th>\n",
       "      <td>150.500000</td>\n",
       "      <td>102.215556</td>\n",
       "    </tr>\n",
       "    <tr>\n",
       "      <th>std</th>\n",
       "      <td>86.746758</td>\n",
       "      <td>57.842711</td>\n",
       "    </tr>\n",
       "    <tr>\n",
       "      <th>min</th>\n",
       "      <td>1.000000</td>\n",
       "      <td>1.888889</td>\n",
       "    </tr>\n",
       "    <tr>\n",
       "      <th>25%</th>\n",
       "      <td>75.750000</td>\n",
       "      <td>52.388889</td>\n",
       "    </tr>\n",
       "    <tr>\n",
       "      <th>50%</th>\n",
       "      <td>150.500000</td>\n",
       "      <td>102.222222</td>\n",
       "    </tr>\n",
       "    <tr>\n",
       "      <th>75%</th>\n",
       "      <td>225.250000</td>\n",
       "      <td>152.055556</td>\n",
       "    </tr>\n",
       "    <tr>\n",
       "      <th>max</th>\n",
       "      <td>300.000000</td>\n",
       "      <td>201.888889</td>\n",
       "    </tr>\n",
       "  </tbody>\n",
       "</table>\n",
       "</div>"
      ],
      "text/plain": [
       "                X           Y\n",
       "count  300.000000  300.000000\n",
       "mean   150.500000  102.215556\n",
       "std     86.746758   57.842711\n",
       "min      1.000000    1.888889\n",
       "25%     75.750000   52.388889\n",
       "50%    150.500000  102.222222\n",
       "75%    225.250000  152.055556\n",
       "max    300.000000  201.888889"
      ]
     },
     "execution_count": 15,
     "metadata": {},
     "output_type": "execute_result"
    }
   ],
   "source": [
    "df.describe()"
   ]
  },
  {
   "cell_type": "code",
   "execution_count": 16,
   "id": "fa21591b-bb9b-46d5-9d0e-4faa9e60a6d9",
   "metadata": {},
   "outputs": [
    {
     "name": "stdout",
     "output_type": "stream",
     "text": [
      "<class 'pandas.core.frame.DataFrame'>\n",
      "RangeIndex: 300 entries, 0 to 299\n",
      "Data columns (total 2 columns):\n",
      " #   Column  Non-Null Count  Dtype  \n",
      "---  ------  --------------  -----  \n",
      " 0   X       300 non-null    int64  \n",
      " 1   Y       300 non-null    float64\n",
      "dtypes: float64(1), int64(1)\n",
      "memory usage: 4.8 KB\n"
     ]
    }
   ],
   "source": [
    "df.info()"
   ]
  },
  {
   "cell_type": "code",
   "execution_count": 18,
   "id": "d1662535-3e6d-4127-8c11-02cf7ad3fa75",
   "metadata": {},
   "outputs": [
    {
     "data": {
      "image/png": "[encoded data removed]",
      "text/plain": [
       "<Figure size 432x288 with 1 Axes>"
      ]
     },
     "metadata": {
      "needs_background": "light"
     },
     "output_type": "display_data"
    }
   ],
   "source": [
    "plt.scatter(X_train,y_train, color = \"black\")\n",
    "plt.xlabel(\"X\")\n",
    "plt.ylabel(\"Y\")\n",
    "plt.title(\"Linear Regression\")\n",
    "\n",
    "plt.show()"
   ]
  },
  {
   "cell_type": "markdown",
   "id": "1a277322-2dbe-4d72-8da2-d2aaf2fbec7a",
   "metadata": {},
   "source": [
    "### Fit your training split to the regression model."
   ]
  },
  {
   "cell_type": "code",
   "execution_count": 9,
   "id": "575697f2-c89b-4171-b46a-65363be2f357",
   "metadata": {},
   "outputs": [
    {
     "data": {
      "text/plain": [
       "LinearRegression()"
      ]
     },
     "execution_count": 9,
     "metadata": {},
     "output_type": "execute_result"
    }
   ],
   "source": [
    "LR = LinearRegression()\n",
    "LR.fit(X_train, y_train)"
   ]
  },
  {
   "cell_type": "code",
   "execution_count": 10,
   "id": "8dfcb0da-493d-4a75-b83c-210b51f912d3",
   "metadata": {},
   "outputs": [
    {
     "data": {
      "text/plain": [
       "array([12.93887474])"
      ]
     },
     "execution_count": 10,
     "metadata": {},
     "output_type": "execute_result"
    }
   ],
   "source": [
    "LR.predict([[10]])"
   ]
  },
  {
   "cell_type": "code",
   "execution_count": 11,
   "id": "2e97837d-8d8e-4bf1-8cbd-5cd2e77d62ab",
   "metadata": {},
   "outputs": [
    {
     "data": {
      "text/plain": [
       "array([199.2222222 , 114.5555556 ,  15.88888889,  32.55555556,\n",
       "       164.5555556 , 131.8888889 , 101.8888889 , 138.5555556 ,\n",
       "        12.55555556, 159.2222222 ,  86.55555556, 139.2222222 ,\n",
       "         7.88888889,  25.88888889,  44.55555556, 131.2222222 ,\n",
       "       157.2222222 ,  19.88888889, 201.2222222 , 163.2222222 ,\n",
       "        45.88888889,  78.55555556, 123.8888889 ,  85.88888889,\n",
       "       168.5555556 , 199.8888889 ,  13.22222222,  98.55555556,\n",
       "       200.5555556 ,  50.55555556, 105.8888889 , 193.2222222 ,\n",
       "       126.5555556 , 118.5555556 ,  33.88888889,  49.22222222,\n",
       "       149.2222222 ,  65.22222222, 147.8888889 ,  69.88888889,\n",
       "        34.55555556, 110.5555556 , 183.2222222 , 105.2222222 ,\n",
       "        95.22222222,  92.55555556, 122.5555556 ,  51.22222222,\n",
       "       150.5555556 ,   4.55555556,  57.22222222, 123.2222222 ,\n",
       "        11.88888889, 201.8888889 ,  79.22222222, 153.2222222 ,\n",
       "       137.2222222 , 107.2222222 ,  11.22222222,  46.55555556])"
      ]
     },
     "execution_count": 11,
     "metadata": {},
     "output_type": "execute_result"
    }
   ],
   "source": [
    "y_test"
   ]
  },
  {
   "cell_type": "code",
   "execution_count": 12,
   "id": "ba93e329-deeb-4f3b-92c1-94bd654e1425",
   "metadata": {
    "collapsed": true,
    "jupyter": {
     "outputs_hidden": true
    },
    "tags": []
   },
   "outputs": [
    {
     "data": {
      "text/plain": [
       "array([[294],\n",
       "       [167],\n",
       "       [ 19],\n",
       "       [ 44],\n",
       "       [242],\n",
       "       [193],\n",
       "       [148],\n",
       "       [203],\n",
       "       [ 14],\n",
       "       [234],\n",
       "       [125],\n",
       "       [204],\n",
       "       [  7],\n",
       "       [ 34],\n",
       "       [ 62],\n",
       "       [192],\n",
       "       [231],\n",
       "       [ 25],\n",
       "       [297],\n",
       "       [240],\n",
       "       [ 64],\n",
       "       [113],\n",
       "       [181],\n",
       "       [124],\n",
       "       [248],\n",
       "       [295],\n",
       "       [ 15],\n",
       "       [143],\n",
       "       [296],\n",
       "       [ 71],\n",
       "       [154],\n",
       "       [285],\n",
       "       [185],\n",
       "       [173],\n",
       "       [ 46],\n",
       "       [ 69],\n",
       "       [219],\n",
       "       [ 93],\n",
       "       [217],\n",
       "       [100],\n",
       "       [ 47],\n",
       "       [161],\n",
       "       [270],\n",
       "       [153],\n",
       "       [138],\n",
       "       [134],\n",
       "       [179],\n",
       "       [ 72],\n",
       "       [221],\n",
       "       [  2],\n",
       "       [ 81],\n",
       "       [180],\n",
       "       [ 13],\n",
       "       [298],\n",
       "       [114],\n",
       "       [225],\n",
       "       [201],\n",
       "       [156],\n",
       "       [ 12],\n",
       "       [ 65]])"
      ]
     },
     "execution_count": 12,
     "metadata": {},
     "output_type": "execute_result"
    }
   ],
   "source": [
    "X_test"
   ]
  },
  {
   "cell_type": "code",
   "execution_count": 13,
   "id": "2c365491-07b4-4f54-8750-a113b2178616",
   "metadata": {},
   "outputs": [
    {
     "data": {
      "text/plain": [
       "(6.606109671436656, array([0.63327651]))"
      ]
     },
     "execution_count": 13,
     "metadata": {},
     "output_type": "execute_result"
    }
   ],
   "source": [
    "LR.intercept_ ,LR.coef_"
   ]
  },
  {
   "cell_type": "markdown",
   "id": "8dd5055f-9f11-41f1-8a50-6546467aff01",
   "metadata": {},
   "source": [
    "### Module Prediction"
   ]
  },
  {
   "cell_type": "code",
   "execution_count": 14,
   "id": "278ecb1c-9867-42ce-8fc7-52093d09c88c",
   "metadata": {},
   "outputs": [
    {
     "data": {
      "text/plain": [
       "array([  7.23938618,   7.87266269,   8.50593919,   9.1392157 ,\n",
       "         9.77249221,  10.40576871,  11.03904522,  11.67232173,\n",
       "        12.30559823,  12.93887474,  13.57215125,  14.20542776,\n",
       "        14.83870426,  15.47198077,  16.10525728,  16.73853378,\n",
       "        17.37181029,  18.0050868 ,  18.6383633 ,  19.27163981,\n",
       "        19.90491632,  20.53819283,  21.17146933,  21.80474584,\n",
       "        22.43802235,  23.07129885,  23.70457536,  24.33785187,\n",
       "        24.97112837,  25.60440488,  26.23768139,  26.8709579 ,\n",
       "        27.5042344 ,  28.13751091,  28.77078742,  29.40406392,\n",
       "        30.03734043,  30.67061694,  31.30389344,  31.93716995,\n",
       "        32.57044646,  33.20372296,  33.83699947,  34.47027598,\n",
       "        35.10355249,  35.73682899,  36.3701055 ,  37.00338201,\n",
       "        37.63665851,  38.26993502,  38.90321153,  39.53648803,\n",
       "        40.16976454,  40.80304105,  41.43631756,  42.06959406,\n",
       "        42.70287057,  43.33614708,  43.96942358,  44.60270009,\n",
       "        45.2359766 ,  45.8692531 ,  46.50252961,  47.13580612,\n",
       "        47.76908263,  48.40235913,  49.03563564,  49.66891215,\n",
       "        50.30218865,  50.93546516,  51.56874167,  52.20201817,\n",
       "        52.83529468,  53.46857119,  54.1018477 ,  54.7351242 ,\n",
       "        55.36840071,  56.00167722,  56.63495372,  57.26823023,\n",
       "        57.90150674,  58.53478324,  59.16805975,  59.80133626,\n",
       "        60.43461277,  61.06788927,  61.70116578,  62.33444229,\n",
       "        62.96771879,  63.6009953 ,  64.23427181,  64.86754831,\n",
       "        65.50082482,  66.13410133,  66.76737784,  67.40065434,\n",
       "        68.03393085,  68.66720736,  69.30048386,  69.93376037,\n",
       "        70.56703688,  71.20031338,  71.83358989,  72.4668664 ,\n",
       "        73.10014291,  73.73341941,  74.36669592,  74.99997243,\n",
       "        75.63324893,  76.26652544,  76.89980195,  77.53307845,\n",
       "        78.16635496,  78.79963147,  79.43290798,  80.06618448,\n",
       "        80.69946099,  81.3327375 ,  81.966014  ,  82.59929051,\n",
       "        83.23256702,  83.86584352,  84.49912003,  85.13239654,\n",
       "        85.76567305,  86.39894955,  87.03222606,  87.66550257,\n",
       "        88.29877907,  88.93205558,  89.56533209,  90.19860859,\n",
       "        90.8318851 ,  91.46516161,  92.09843812,  92.73171462,\n",
       "        93.36499113,  93.99826764,  94.63154414,  95.26482065,\n",
       "        95.89809716,  96.53137366,  97.16465017,  97.79792668,\n",
       "        98.43120318,  99.06447969,  99.6977562 , 100.33103271,\n",
       "       100.96430921, 101.59758572, 102.23086223, 102.86413873,\n",
       "       103.49741524, 104.13069175, 104.76396825, 105.39724476,\n",
       "       106.03052127, 106.66379778, 107.29707428, 107.93035079,\n",
       "       108.5636273 , 109.1969038 , 109.83018031, 110.46345682,\n",
       "       111.09673332, 111.73000983, 112.36328634, 112.99656285,\n",
       "       113.62983935, 114.26311586, 114.89639237, 115.52966887,\n",
       "       116.16294538, 116.79622189, 117.42949839, 118.0627749 ,\n",
       "       118.69605141, 119.32932792, 119.96260442, 120.59588093,\n",
       "       121.22915744, 121.86243394, 122.49571045, 123.12898696,\n",
       "       123.76226346, 124.39553997, 125.02881648, 125.66209299,\n",
       "       126.29536949, 126.928646  , 127.56192251, 128.19519901,\n",
       "       128.82847552, 129.46175203, 130.09502853, 130.72830504,\n",
       "       131.36158155, 131.99485806, 132.62813456, 133.26141107,\n",
       "       133.89468758, 134.52796408, 135.16124059, 135.7945171 ,\n",
       "       136.4277936 , 137.06107011, 137.69434662, 138.32762313,\n",
       "       138.96089963, 139.59417614, 140.22745265, 140.86072915,\n",
       "       141.49400566, 142.12728217, 142.76055867, 143.39383518,\n",
       "       144.02711169, 144.6603882 , 145.2936647 , 145.92694121,\n",
       "       146.56021772, 147.19349422, 147.82677073, 148.46004724,\n",
       "       149.09332374, 149.72660025, 150.35987676, 150.99315327,\n",
       "       151.62642977, 152.25970628, 152.89298279, 153.52625929,\n",
       "       154.1595358 , 154.79281231, 155.42608881, 156.05936532,\n",
       "       156.69264183, 157.32591833, 157.95919484, 158.59247135,\n",
       "       159.22574786, 159.85902436, 160.49230087, 161.12557738,\n",
       "       161.75885388, 162.39213039, 163.0254069 , 163.6586834 ,\n",
       "       164.29195991, 164.92523642, 165.55851293, 166.19178943,\n",
       "       166.82506594, 167.45834245, 168.09161895, 168.72489546,\n",
       "       169.35817197, 169.99144847, 170.62472498, 171.25800149,\n",
       "       171.891278  , 172.5245545 , 173.15783101, 173.79110752,\n",
       "       174.42438402, 175.05766053, 175.69093704, 176.32421354,\n",
       "       176.95749005, 177.59076656, 178.22404307, 178.85731957,\n",
       "       179.49059608, 180.12387259, 180.75714909, 181.3904256 ,\n",
       "       182.02370211, 182.65697861, 183.29025512, 183.92353163,\n",
       "       184.55680814, 185.19008464, 185.82336115, 186.45663766,\n",
       "       187.08991416, 187.72319067, 188.35646718, 188.98974368,\n",
       "       189.62302019, 190.2562967 , 190.88957321, 191.52284971,\n",
       "       192.15612622, 192.78940273, 193.42267923, 194.05595574,\n",
       "       194.68923225, 195.32250875, 195.95578526, 196.58906177])"
      ]
     },
     "execution_count": 14,
     "metadata": {},
     "output_type": "execute_result"
    }
   ],
   "source": [
    "y_pred = LR.predict(X) #y_pred is a numpy array that contains all the predicted values for the input values in the X_test s\n",
    "y_pred"
   ]
  },
  {
   "cell_type": "code",
   "execution_count": null,
   "id": "a9b3f083-fcbb-4e71-9a16-e42bc19ddbf4",
   "metadata": {},
   "outputs": [],
   "source": [
    "# p = pd.DataFrame({'Actual': y_test, 'Predicted': y_pred})\n",
    "# p"
   ]
  },
  {
   "cell_type": "code",
   "execution_count": 15,
   "id": "c32feedc-19b8-46b7-b61e-2d0c53558762",
   "metadata": {},
   "outputs": [
    {
     "data": {
      "text/plain": [
       "array([[1],\n",
       "       [2],\n",
       "       [3],\n",
       "       [4],\n",
       "       [5]])"
      ]
     },
     "execution_count": 15,
     "metadata": {},
     "output_type": "execute_result"
    }
   ],
   "source": [
    "X[:5]"
   ]
  },
  {
   "cell_type": "code",
   "execution_count": 16,
   "id": "5490a76b-364f-4e2d-8492-a71c36a44cf3",
   "metadata": {},
   "outputs": [
    {
     "data": {
      "text/plain": [
       "array([7.23938618, 7.87266269, 8.50593919, 9.1392157 , 9.77249221])"
      ]
     },
     "execution_count": 16,
     "metadata": {},
     "output_type": "execute_result"
    }
   ],
   "source": [
    "LR.predict(X[:5])\n"
   ]
  },
  {
   "cell_type": "code",
   "execution_count": 17,
   "id": "59488881-19e6-42eb-aca4-c402d4496e41",
   "metadata": {
    "tags": []
   },
   "outputs": [
    {
     "data": {
      "text/plain": [
       "array([3.88888889, 4.55555556, 5.22222222, 5.88888889, 6.55555556])"
      ]
     },
     "execution_count": 17,
     "metadata": {},
     "output_type": "execute_result"
    }
   ],
   "source": [
    "y[:5]"
   ]
  },
  {
   "cell_type": "markdown",
   "id": "90c3976b-25bb-4e63-850f-96e9225902d1",
   "metadata": {},
   "source": [
    "### Visualization Module\n"
   ]
  },
  {
   "cell_type": "markdown",
   "id": "7945a6b9-af6b-4183-9b49-beef4433c401",
   "metadata": {},
   "source": []
  },
  {
   "cell_type": "code",
   "execution_count": null,
   "id": "c8e27142-0268-4dc1-9c4f-8e44b6bdb520",
   "metadata": {},
   "outputs": [],
   "source": []
  },
  {
   "cell_type": "code",
   "execution_count": 18,
   "id": "5dfc1e01-12fa-4844-8deb-784a35cb4481",
   "metadata": {},
   "outputs": [
    {
     "data": {
      "image/png": "[encoded data removed]",
      "text/plain": [
       "<Figure size 432x288 with 1 Axes>"
      ]
     },
     "metadata": {
      "needs_background": "light"
     },
     "output_type": "display_data"
    }
   ],
   "source": [
    "plt.scatter(X,y, color = \"pink\")\n",
    "plt.plot(X, y_pred)\n",
    "plt.xlabel(\"X\")\n",
    "plt.ylabel(\"Y\")\n",
    "plt.title(\"Visualization Module\")\n",
    "\n",
    "plt.show()"
   ]
  },
  {
   "cell_type": "markdown",
   "id": "e9cbbb5e-8103-4945-88fc-80d2b00dcfc7",
   "metadata": {},
   "source": [
    "### Module Evaluation"
   ]
  },
  {
   "cell_type": "markdown",
   "id": "eab00ad4-5e5e-4e1e-8d95-f7cc1b3a9841",
   "metadata": {},
   "source": [
    "### Show your regression model’s score."
   ]
  },
  {
   "cell_type": "code",
   "execution_count": 19,
   "id": "82fb42ec-aa88-47bb-b6e7-177a4dcdaa87",
   "metadata": {},
   "outputs": [
    {
     "data": {
      "text/plain": [
       "4.0249781818465955"
      ]
     },
     "execution_count": 19,
     "metadata": {},
     "output_type": "execute_result"
    }
   ],
   "source": [
    "mc.mean_absolute_error(y, y_pred)"
   ]
  },
  {
   "cell_type": "markdown",
   "id": "370548ff-35c6-4df9-9ac4-269650f1cccd",
   "metadata": {},
   "source": []
  },
  {
   "cell_type": "code",
   "execution_count": null,
   "id": "b3f6c119-a569-4ad6-b47b-73fdd14594b8",
   "metadata": {},
   "outputs": [],
   "source": []
  }
 ],
 "metadata": {
  "kernelspec": {
   "display_name": "Python 3",
   "language": "python",
   "name": "python3"
  },
  "language_info": {
   "codemirror_mode": {
    "name": "ipython",
    "version": 3
   },
   "file_extension": ".py",
   "mimetype": "text/x-python",
   "name": "python",
   "nbconvert_exporter": "python",
   "pygments_lexer": "ipython3",
   "version": "3.8.5"
  }
 },
 "nbformat": 4,
 "nbformat_minor": 5
}
